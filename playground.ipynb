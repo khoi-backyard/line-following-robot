{
 "cells": [
  {
   "cell_type": "code",
   "execution_count": 1,
   "metadata": {},
   "outputs": [],
   "source": [
    "from bluedot import BlueDot\n",
    "from signal import pause\n",
    "\n",
    "def pos_to_values(x, y):\n",
    "    left = y if x > 0 else y + x\n",
    "    right = y if x < 0 else y - x\n",
    "    return (clamped(left), clamped(right))\n",
    "\n",
    "def clamped(v):\n",
    "    return max(-1, min(1, v))\n",
    "\n",
    "def drive():\n",
    "    while True:\n",
    "        if bd.is_pressed:\n",
    "            x, y = bd.position.x, bd.position.y\n",
    "            yield pos_to_values(x, y)\n",
    "        else:\n",
    "            yield (0, 0)\n",
    "\n",
    "robot = Robot(left=(12, 18), right=(13, 19))\n",
    "bd = BlueDot()\n",
    "\n",
    "robot.source = drive()\n",
    "\n",
    "pause()"
   ]
  },
  {
   "cell_type": "code",
   "execution_count": null,
   "metadata": {},
   "outputs": [],
   "source": [
    "from gpiozero import Robot\n",
    "from time import sleep\n",
    "\n",
    "# left = Motor(forward=12, backward=18)\n",
    "# right = Motor(forward=13, backward=19)\n",
    "\n",
    "robot = Robot(left=(12, 18), right=(13, 19))\n",
    "\n",
    "robot.right()\n",
    "sleep(5)\n",
    "robot.stop()"
   ]
  }
 ],
 "metadata": {
  "kernelspec": {
   "display_name": "Python 3",
   "language": "python",
   "name": "python3"
  },
  "language_info": {
   "codemirror_mode": {
    "name": "ipython",
    "version": 3
   },
   "file_extension": ".py",
   "mimetype": "text/x-python",
   "name": "python",
   "nbconvert_exporter": "python",
   "pygments_lexer": "ipython3",
   "version": "3.7.3"
  }
 },
 "nbformat": 4,
 "nbformat_minor": 2
}
